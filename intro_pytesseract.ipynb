{
 "cells": [
  {
   "cell_type": "code",
   "execution_count": 1,
   "id": "b0d070e0-b89b-410a-a87e-36d3480f87d5",
   "metadata": {
    "tags": []
   },
   "outputs": [],
   "source": [
    "# Pytesseract"
   ]
  },
  {
   "cell_type": "code",
   "execution_count": 2,
   "id": "c3ab3e50-da24-48fb-a024-66d726d744de",
   "metadata": {
    "tags": []
   },
   "outputs": [],
   "source": [
    "import pytesseract\n",
    "from PIL import Image"
   ]
  },
  {
   "cell_type": "code",
   "execution_count": 4,
   "id": "402d1e41-f745-42d7-adfd-b372575cdb1e",
   "metadata": {
    "tags": []
   },
   "outputs": [],
   "source": [
    "image=\"data/page_01.jpg\"\n",
    "no_noise=\"saved/nonoise.jpg\""
   ]
  },
  {
   "cell_type": "code",
   "execution_count": 5,
   "id": "fa274efc-9e8e-49dd-b42d-18a4bdf15082",
   "metadata": {
    "tags": []
   },
   "outputs": [],
   "source": [
    "imageopen=Image.open(image)\n",
    "noiseopen=Image.open(no_noise)"
   ]
  },
  {
   "cell_type": "code",
   "execution_count": 6,
   "id": "1ba46ec9-9865-46d3-accb-b82806351433",
   "metadata": {
    "tags": []
   },
   "outputs": [],
   "source": [
    "ocr_result_image=pytesseract.image_to_string(imageopen)\n",
    "ocr_result_noise=pytesseract.image_to_string(noiseopen)"
   ]
  },
  {
   "cell_type": "code",
   "execution_count": 7,
   "id": "9a2fe59b-4bba-4a56-81ac-119c414e42db",
   "metadata": {
    "tags": []
   },
   "outputs": [
    {
     "name": "stdout",
     "output_type": "stream",
     "text": [
      "\n"
     ]
    }
   ],
   "source": [
    "print(ocr_result_image)"
   ]
  },
  {
   "cell_type": "code",
   "execution_count": 8,
   "id": "f781bbd3-82c1-4839-ad60-fd83530b6251",
   "metadata": {
    "tags": []
   },
   "outputs": [
    {
     "name": "stdout",
     "output_type": "stream",
     "text": [
      "“GABRIEL Mermace\n",
      "\n",
      "Qn Easter motning in the year 175, I took my six-year-old\n",
      "son by the hand and beran walking fron my home town toward the\n",
      "valleys and forests of the Carpathirs rountains. For nearly\n",
      "eight months we lived in barns, attics and makeshift cabins. “ith\n",
      "the (ESOS help of an unusually courageous man, we managed to\n",
      "survive Europe's greatest fit of madness. Those who walked in\n",
      "the opposite direction on that Easter day were less fortunate.\n",
      "They wore taken in trainloads to places whose once obscure nanes\n",
      "are now, and forever will be, synonymous with terror, evil and\n",
      "death. What follows is our story of survival told to the best\n",
      "of my ability, in plain, simple languare.\n",
      "\n",
      "In March of 1944 the SS troops took over the internal affeirs\n",
      "of Hungary and proceeded to organize the deportation of the Jews.\n",
      "™> the Nazis this was a routine assignment; within hours all local\n",
      "officials were informed of operational plans. The high command\n",
      "issued a directive designed to placate Jewish fears and induce\n",
      "cooperation. It was announced that the Jews would be shipped to\n",
      "Poler:i as an emergency labor force and that they were only being\n",
      "drafted for temporary vork. There were many who believed this\n",
      "version. Others, less credulous, resigred themselves and hoped for\n",
      "the best. Still others began to make plans for escape. By Apris\n",
      "13 the Hungarian Jews were being rounded up from all over the\n",
      "country kn what was once a huge brick factory. The rest is well\n",
      "known. :\n",
      "\n",
      "I was working in Urevar and usually came home on weekends.\n",
      "\n",
      "At that time it was no lonser possizle for a Jew to travel freely.\n",
      "\n",
      "1\n",
      "\n",
      "\n"
     ]
    }
   ],
   "source": [
    "print(ocr_result_noise)"
   ]
  },
  {
   "cell_type": "code",
   "execution_count": null,
   "id": "72bbce4e-2f9f-4a32-9e40-f57385015599",
   "metadata": {},
   "outputs": [],
   "source": []
  }
 ],
 "metadata": {
  "kernelspec": {
   "display_name": "Python 3 (ipykernel)",
   "language": "python",
   "name": "python3"
  },
  "language_info": {
   "codemirror_mode": {
    "name": "ipython",
    "version": 3
   },
   "file_extension": ".py",
   "mimetype": "text/x-python",
   "name": "python",
   "nbconvert_exporter": "python",
   "pygments_lexer": "ipython3",
   "version": "3.10.4"
  }
 },
 "nbformat": 4,
 "nbformat_minor": 5
}
