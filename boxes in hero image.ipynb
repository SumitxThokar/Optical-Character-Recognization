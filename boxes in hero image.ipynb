{
 "cells": [
  {
   "cell_type": "code",
   "execution_count": 1,
   "id": "084c4597",
   "metadata": {},
   "outputs": [],
   "source": [
    "# importing modules.\n",
    "import pytesseract\n",
    "import cv2\n"
   ]
  },
  {
   "cell_type": "code",
   "execution_count": 2,
   "id": "a5dee8cd",
   "metadata": {},
   "outputs": [],
   "source": [
    "image_dir=\"data/hero.jpg\""
   ]
  },
  {
   "cell_type": "code",
   "execution_count": 3,
   "id": "16ff6ce5",
   "metadata": {},
   "outputs": [],
   "source": [
    "image=cv2.imread(image_dir)\n",
    "base_image=image.copy()"
   ]
  },
  {
   "cell_type": "code",
   "execution_count": 4,
   "id": "9a042b55",
   "metadata": {},
   "outputs": [
    {
     "data": {
      "text/plain": [
       "True"
      ]
     },
     "execution_count": 4,
     "metadata": {},
     "output_type": "execute_result"
    }
   ],
   "source": [
    "# Gray Image.\n",
    "gray=cv2.cvtColor(image,cv2.COLOR_BGR2GRAY)\n",
    "cv2.imwrite(\"saved/gray_hero.jpg\",gray)"
   ]
  },
  {
   "cell_type": "code",
   "execution_count": 5,
   "id": "b8f7534d",
   "metadata": {},
   "outputs": [
    {
     "data": {
      "text/plain": [
       "True"
      ]
     },
     "execution_count": 5,
     "metadata": {},
     "output_type": "execute_result"
    }
   ],
   "source": [
    "# Gaussain Blur\n",
    "blur=cv2.GaussianBlur(gray,(9,9),2)\n",
    "cv2.imwrite(\"saved/blur_hero_11.jpg\",blur)"
   ]
  },
  {
   "cell_type": "code",
   "execution_count": 6,
   "id": "54d62589",
   "metadata": {},
   "outputs": [
    {
     "data": {
      "text/plain": [
       "True"
      ]
     },
     "execution_count": 6,
     "metadata": {},
     "output_type": "execute_result"
    }
   ],
   "source": [
    "# Threshold\n",
    "thresh=cv2.threshold(blur,0,255,cv2.THRESH_BINARY_INV+ cv2.THRESH_OTSU)[1]\n",
    "cv2.imwrite(\"saved/thresh_hero.jpg\",thresh)"
   ]
  },
  {
   "cell_type": "code",
   "execution_count": 7,
   "id": "0ea54278",
   "metadata": {},
   "outputs": [],
   "source": [
    "kernal=cv2.getStructuringElement(cv2.MORPH_RECT,(3,13))\n",
    "dilate=cv2.dilate(thresh,kernal,iterations=2)"
   ]
  },
  {
   "cell_type": "code",
   "execution_count": 8,
   "id": "6e563dfa",
   "metadata": {},
   "outputs": [
    {
     "data": {
      "text/plain": [
       "True"
      ]
     },
     "execution_count": 8,
     "metadata": {},
     "output_type": "execute_result"
    }
   ],
   "source": [
    "cv2.imwrite(\"saved/dilated_hero11.jpg\",dilate)"
   ]
  },
  {
   "cell_type": "code",
   "execution_count": 9,
   "id": "46fea6eb",
   "metadata": {},
   "outputs": [],
   "source": [
    "cnts=cv2.findContours(dilate,cv2.RETR_EXTERNAL,cv2.CHAIN_APPROX_SIMPLE)\n",
    "cnts=cnts[0] if len(cnts)==2 else cnts[1]"
   ]
  },
  {
   "cell_type": "code",
   "execution_count": 10,
   "id": "e4a80f4c",
   "metadata": {},
   "outputs": [],
   "source": [
    "cnts=sorted(cnts,key=lambda x: cv2.boundingRect(x)[0])"
   ]
  },
  {
   "cell_type": "code",
   "execution_count": 11,
   "id": "a6106bd8",
   "metadata": {},
   "outputs": [],
   "source": [
    "for c in cnts:\n",
    "    x,y,w,h=cv2.boundingRect(c)\n",
    "    if h>10 and w>5:\n",
    "        roi=image[y:y+h,x:x+h]\n",
    "        cv2.imwrite(\"saved/roi_hero.jpg\",roi)\n",
    "        cv2.rectangle(image,(x,y),(x+w,y+h),(36,255,12),2)"
   ]
  },
  {
   "cell_type": "code",
   "execution_count": 14,
   "id": "581c7d23",
   "metadata": {},
   "outputs": [
    {
     "data": {
      "text/plain": [
       "True"
      ]
     },
     "execution_count": 14,
     "metadata": {},
     "output_type": "execute_result"
    }
   ],
   "source": [
    "cv2.imwrite(\"saved/bounded_herorel.jpg\",image)"
   ]
  },
  {
   "cell_type": "code",
   "execution_count": null,
   "id": "64e72b48",
   "metadata": {},
   "outputs": [],
   "source": []
  },
  {
   "cell_type": "code",
   "execution_count": null,
   "id": "0910bec9",
   "metadata": {},
   "outputs": [],
   "source": []
  }
 ],
 "metadata": {
  "kernelspec": {
   "display_name": "Python 3 (ipykernel)",
   "language": "python",
   "name": "python3"
  },
  "language_info": {
   "codemirror_mode": {
    "name": "ipython",
    "version": 3
   },
   "file_extension": ".py",
   "mimetype": "text/x-python",
   "name": "python",
   "nbconvert_exporter": "python",
   "pygments_lexer": "ipython3",
   "version": "3.10.4"
  }
 },
 "nbformat": 4,
 "nbformat_minor": 5
}
