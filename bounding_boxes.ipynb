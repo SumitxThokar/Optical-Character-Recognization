{
 "cells": [
  {
   "cell_type": "code",
   "execution_count": 1,
   "id": "d591fce9-6da1-475d-b431-b882f237a07b",
   "metadata": {
    "tags": []
   },
   "outputs": [],
   "source": [
    "import pytesseract\n",
    "import cv2"
   ]
  },
  {
   "cell_type": "code",
   "execution_count": 2,
   "id": "7c42aee7-5e63-4c50-8b4f-f40b3d538881",
   "metadata": {
    "tags": []
   },
   "outputs": [],
   "source": [
    "image_dir=\"data/index_02.jpg\"\n"
   ]
  },
  {
   "cell_type": "code",
   "execution_count": 3,
   "id": "d1eb25a0-d19b-4f2e-8352-ff5db86e9523",
   "metadata": {
    "tags": []
   },
   "outputs": [],
   "source": [
    "image=cv2.imread(image_dir)\n",
    "base_image=image.copy()"
   ]
  },
  {
   "cell_type": "code",
   "execution_count": 4,
   "id": "8640def1-5f0b-46c0-b63f-51bceec9f133",
   "metadata": {
    "tags": []
   },
   "outputs": [],
   "source": [
    "gray=cv2.cvtColor(image,cv2.COLOR_BGR2GRAY)"
   ]
  },
  {
   "cell_type": "code",
   "execution_count": 5,
   "id": "e038d2e9-b593-4fbf-8267-16ea96e6b8ed",
   "metadata": {
    "tags": []
   },
   "outputs": [
    {
     "data": {
      "text/plain": [
       "True"
      ]
     },
     "execution_count": 5,
     "metadata": {},
     "output_type": "execute_result"
    }
   ],
   "source": [
    "cv2.imwrite(\"saved/gray_image.jpg\",gray)"
   ]
  },
  {
   "cell_type": "code",
   "execution_count": 6,
   "id": "e3dbcb0e-e755-447c-a8b4-5564dbce94dd",
   "metadata": {
    "tags": []
   },
   "outputs": [],
   "source": [
    "gblur=cv2.GaussianBlur(gray,(7,7),0)"
   ]
  },
  {
   "cell_type": "code",
   "execution_count": 7,
   "id": "f31e9167-b08e-46e5-954e-b2f2ffdb102f",
   "metadata": {
    "tags": []
   },
   "outputs": [
    {
     "data": {
      "text/plain": [
       "True"
      ]
     },
     "execution_count": 7,
     "metadata": {},
     "output_type": "execute_result"
    }
   ],
   "source": [
    "cv2.imwrite(\"saved/gblur_image.jpg\",gblur)"
   ]
  },
  {
   "cell_type": "code",
   "execution_count": 8,
   "id": "661a74c6-4b5e-4878-9037-8933cb178d93",
   "metadata": {
    "tags": []
   },
   "outputs": [],
   "source": [
    "thresh=cv2.threshold(gblur,0,255,cv2.THRESH_BINARY_INV+ cv2.THRESH_OTSU)[1]"
   ]
  },
  {
   "cell_type": "code",
   "execution_count": 9,
   "id": "888055f0-4bed-4193-be6a-76c668e51c33",
   "metadata": {
    "tags": []
   },
   "outputs": [
    {
     "data": {
      "text/plain": [
       "True"
      ]
     },
     "execution_count": 9,
     "metadata": {},
     "output_type": "execute_result"
    }
   ],
   "source": [
    "cv2.imwrite(\"saved/thresh_image.jpg\",thresh)"
   ]
  },
  {
   "cell_type": "code",
   "execution_count": 10,
   "id": "f63ffa67-3762-481f-bb10-2586f2e92484",
   "metadata": {
    "tags": []
   },
   "outputs": [],
   "source": [
    "kernal=cv2.getStructuringElement(cv2.MORPH_RECT,(3,13))"
   ]
  },
  {
   "cell_type": "code",
   "execution_count": 11,
   "id": "2aa672df-4d4d-4af6-a6be-441d5dd959b4",
   "metadata": {
    "tags": []
   },
   "outputs": [
    {
     "data": {
      "text/plain": [
       "True"
      ]
     },
     "execution_count": 11,
     "metadata": {},
     "output_type": "execute_result"
    }
   ],
   "source": [
    "cv2.imwrite(\"saved/kernal_image.jpg\",kernal)"
   ]
  },
  {
   "cell_type": "code",
   "execution_count": 12,
   "id": "5605f13c-80d8-41fd-8961-8eab2ab5e1c9",
   "metadata": {
    "tags": []
   },
   "outputs": [],
   "source": [
    "dilate=cv2.dilate(thresh,kernal,iterations=1)"
   ]
  },
  {
   "cell_type": "code",
   "execution_count": 13,
   "id": "074cf6b9-2cca-4adb-8427-91be4384eb48",
   "metadata": {
    "tags": []
   },
   "outputs": [
    {
     "data": {
      "text/plain": [
       "True"
      ]
     },
     "execution_count": 13,
     "metadata": {},
     "output_type": "execute_result"
    }
   ],
   "source": [
    "cv2.imwrite(\"saved/dilated_image1.jpg\",dilate)"
   ]
  },
  {
   "cell_type": "code",
   "execution_count": 14,
   "id": "61f4f5fc-49a0-4641-8dcf-57c4e8d06b57",
   "metadata": {
    "tags": []
   },
   "outputs": [],
   "source": [
    "# contours\n",
    "cnts=cv2.findContours(dilate,cv2.RETR_EXTERNAL,cv2.CHAIN_APPROX_SIMPLE)\n",
    "cnts=cnts[0] if len(cnts)==2 else cnts[1]"
   ]
  },
  {
   "cell_type": "code",
   "execution_count": 15,
   "id": "364f8086-7c30-4c93-94f7-f8533b66f110",
   "metadata": {
    "tags": []
   },
   "outputs": [],
   "source": [
    "cnts=sorted(cnts,key=lambda x: cv2.boundingRect(x)[0])"
   ]
  },
  {
   "cell_type": "code",
   "execution_count": 16,
   "id": "3cb9d903-facb-4615-83c4-406f6c7f494d",
   "metadata": {
    "tags": []
   },
   "outputs": [],
   "source": [
    "result=[]\n",
    "for c in cnts:\n",
    "    x,y,w,h=cv2.boundingRect(c)\n",
    "    if h>200 and w>20:\n",
    "        roi=image[y:y+h,x:x+h]\n",
    "        cv2.rectangle(image,(x,y),(x+w,y+h),(36,255,12),2)\n",
    "        ocr_result=pytesseract.image_to_string(roi)\n",
    "        ocr_result=ocr_result.split(\"\\n\")\n",
    "        for item in ocr_result:\n",
    "            result.append(item)\n",
    "            "
   ]
  },
  {
   "cell_type": "code",
   "execution_count": 17,
   "id": "85a2953e-ac03-4271-bba6-ec19b223fc01",
   "metadata": {
    "tags": []
   },
   "outputs": [
    {
     "data": {
      "text/plain": [
       "True"
      ]
     },
     "execution_count": 17,
     "metadata": {},
     "output_type": "execute_result"
    }
   ],
   "source": [
    "cv2.imwrite(\"saved/bounded.jpg\",image)"
   ]
  },
  {
   "cell_type": "code",
   "execution_count": 18,
   "id": "a25ad15d-ec0f-4e82-a55e-e35278f3a787",
   "metadata": {},
   "outputs": [
    {
     "data": {
      "text/plain": [
       "['A.v. E.',\n",
       " '',\n",
       " 'Abacuc propheta 36,5. 319, 29. 373, 23.',\n",
       " '',\n",
       " 'Abagarus rex Edessenorum 382, 13.',\n",
       " '',\n",
       " 'Abdenago 585, 3.',\n",
       " '',\n",
       " 'Abel 26, 11.',\n",
       " '',\n",
       " 'Abigail 606, 6.',\n",
       " '',\n",
       " 'Abraham 26,18, 124,18. 133, 23.',\n",
       " '',\n",
       " '264. 302, 13. 303, 13. 320, 40.',\n",
       " '',\n",
       " '496, 22.',\n",
       " '',\n",
       " 'Absalon 102, 5.',\n",
       " '',\n",
       " 'Acgfredi v. Ecgtridus.',\n",
       " '',\n",
       " 'Achab rex 504, 1.',\n",
       " '',\n",
       " 'Achaz rex 504, 1.',\n",
       " '',\n",
       " 'Achiel 606, 19.',\n",
       " '',\n",
       " 'Achilon 496, 26.',\n",
       " '',\n",
       " 'Adal-, Adel-, Adhel-, Aedel-, Aed',\n",
       " 'Aedil-, Aedil- Edel-, Edil-, Ath',\n",
       " '',\n",
       " 'Ethel-.',\n",
       " 'Aedelbaldusabb.S. Petri Wiremuthen-;',\n",
       " 'sis et S. Pauli Girwensis 110, 28.',\n",
       " \"Aedilberctus, Aedilberthus ep. Ha-'\",\n",
       " 'gulstadensis, antea ep. Candidae|',\n",
       " 'casae sive Witernensis 27,43. 72,16.',\n",
       " 'Adalbertus, Aedilberctus sive Magus,’',\n",
       " 'discipulus et capellanus Arnonis',\n",
       " 'archiep. Salisburg., postea_abb.',\n",
       " 'Ferrariensis 254, 1. 320, 41. 322, 19.)',\n",
       " '416. 418, 14. 422, 10.',\n",
       " 'Adalpertabb.[Tegernseensis ?]497,23..',\n",
       " 'Adalbertus presb. monasterii 8. Mar-',\n",
       " 'tini Turonensis 399, 3.',\n",
       " '',\n",
       " 'Aedilburga, Edilburga, cognom. Euge-',\n",
       " 'nia, abbatissa Flaedanbyrgensis,',\n",
       " 'filia Offae regis Merciorum 78, 1.',\n",
       " '148, 32. 149, 33 [2]7 458.',\n",
       " '',\n",
       " 'Aethelfleda uxor Aethilredi regis',\n",
       " 'Northanhumbrorum, filia Offae’',\n",
       " 'regis Merciorum 149, 14. 150, 4.',\n",
       " '',\n",
       " 'Adalgarius ep. [Trecensis?] 510, 10,',\n",
       " '',\n",
       " 'Adelgisa filia Arichis ducis Bene-',\n",
       " 'ventani 506, 27.',\n",
       " '',\n",
       " 'Adalgisus fil. Desiderii regis Lango-|',\n",
       " 'bardorum 503, 45.',\n",
       " '',\n",
       " 'Epistozae IV.',\n",
       " '',\n",
       " 'Aaron 38, 20. 123, 18. 168,6. 203, 38. |)',\n",
       " '',\n",
       " '‘|| Adalhardus,',\n",
       " '',\n",
       " 'Athel-, Athil-, Aethel-, Aethil-,|',\n",
       " '',\n",
       " 'Aethelhardus, Aethilhardus, Athel-',\n",
       " 'hardus, Athilhardus, Aedelhardus,',\n",
       " 'Aedelhardus, Aedilhardus, Aedil-',\n",
       " 'hardus, Ethelardus, Edelardus',\n",
       " 'archiep. Cantuariensis Dorovernen-',\n",
       " 'sis ecclesiae metropolitanus 45, 9.',\n",
       " '49,9. 128,2. 145, 31, 147,5. 188. 189.',\n",
       " '192, 24. 193, 5 [?]. 374376, v9. 377, 4.',\n",
       " '412. 414,1 (2) 448. 449 [2]. 450 [2].',\n",
       " '451, 8 [2]. 479. 480. 614, 10. 21. 36.',\n",
       " '',\n",
       " '. Antonius, abb,',\n",
       " '',\n",
       " 'Corbeiae veteris, fil. Bernhardi',\n",
       " '',\n",
       " 'rae Caroli Magni 34, 25. 290.',\n",
       " '1. 299. 300. 364. 365. 381. 382.',\n",
       " '',\n",
       " '509. 566,16; frater: Bernarius;',\n",
       " '',\n",
       " 'fratres 381,25; soror: Gundrada.',\n",
       " '',\n",
       " '| Adalmondus, Aethelmodus ep. Scire-',\n",
       " '',\n",
       " '| burnensis 29, 9.',\n",
       " '',\n",
       " 'Adelperga uxor Arichis ducis Bene-',\n",
       " 'ventani, filia Desideriiregis Lango-',\n",
       " 'bardorum 506, 5; liberi: Romual-',\n",
       " 'dus, Grimoaldus, Adelgisa.',\n",
       " '',\n",
       " '| Adalpert v. Adalbertus.',\n",
       " '',\n",
       " 'Aedelredus, Aedilredus, Aethelredus,',\n",
       " 'Aethilredus, Hedilredus rex Nor-',\n",
       " 'thanhumbrorum, fil. Aedelwaldi',\n",
       " 'Moll regis 383,15. 35,8. 41, 19.',\n",
       " '49, 16. 71, 20. 146,2. 147, 10. 150, 6.',\n",
       " '151, 35. 171,17. 377,31; mater:',\n",
       " 'Aedilthyda; uxor: Aethelfleda;',\n",
       " 'famulus: Torchmundus.',\n",
       " '',\n",
       " 'Adhelricus diaconus, discipulus et',\n",
       " 'capellanus Arnonis archiep. Salis-',\n",
       " 'burg., postea abbas Ferrariensis,',\n",
       " 'archiepiscopus Senonensis, 418, 14.',\n",
       " '422, 10.',\n",
       " '',\n",
       " 'Aedilthyda, Edilthruda uxor Aethel-',\n",
       " 'waldi Moll regis Northanhumbro-',\n",
       " 'rum, postea abbatissa 120,12. 151,17.',\n",
       " '152, 31 (?]; filius: Aethelredus rex',\n",
       " 'Northanhumbrorum.',\n",
       " '',\n",
       " 'Edildryda uxor Ecgfridi regis Nor-',\n",
       " 'thanhumbrorum, postea abbatissa',\n",
       " '(+ 679) 417,15.',\n",
       " '',\n",
       " 'Aedelwaldus, Aethelwoldus Moll rex',\n",
       " 'Northanhumbrorum 33, 16; uxor:',\n",
       " 'Aedilthyda; filius: Aethelredus.',\n",
       " '',\n",
       " 'Adalwinus ep. Reginensis 421, 24.',\n",
       " '422, 21. 424,3.',\n",
       " '',\n",
       " 'Aethiluuinus episcopus 28, 2.',\n",
       " '',\n",
       " 'Adam 124, 201,1. 226,7. 264, 21.',\n",
       " '879, 29. 466, 36-—468, v5. 591, 34.',\n",
       " '',\n",
       " 'Adam abb. monasterii Gemeticensis',\n",
       " '579.',\n",
       " '',\n",
       " 'Adaula abbatissa Anglica 112, 4.',\n",
       " '',\n",
       " 'Adoredus, Hathoredus ep. Hwiccio-',\n",
       " 'rum [Wigorniensis] 29, 10.',\n",
       " '',\n",
       " 'Adrianus v. Hadrianus.',\n",
       " '',\n",
       " 'Adriaticum mare 324, 41.',\n",
       " '',\n",
       " 'Aedel-, Aedil-, v. Adal-.',\n",
       " '',\n",
       " 'Aegesippus [i. e. Hegesippus] 501, 11.',\n",
       " '',\n",
       " 'Aegil v. Eigil.',\n",
       " '',\n",
       " 'Aegyptus, Egyptus 123,19. 554, 17;',\n",
       " '‘Aegyptii, Aegyptiaci 231. 232, 17.',\n",
       " '467, 36. 567,6. 571,33; Egyptiacae',\n",
       " 'divitiae 470, 22; Aegyptiacae tene-',\n",
       " 'brae 232, 3; Acgypit rex: Pharao;',\n",
       " 'Aegyptiacascola, Aegyptiaci pueri',\n",
       " 'v. Carolus I imperator.',\n",
       " '',\n",
       " 'Aeine, Aesne, Esne ep. Herefordensis',\n",
       " '',\n",
       " ', 6.',\n",
       " 'Aelberhtus archiep. Eboracensis, ma-',\n",
       " '‘ister Alcvini abbatis (162, 24]. 167,s.',\n",
       " '171,19]. [177,5]. [224,20]. [239, 28].',\n",
       " '332, 28]. [377,32]. (378, 31]. [429,27',\n",
       " '',\n",
       " 'Aelfvaldus, Aelfwaldus rex Nor-',\n",
       " 'thanhymbrorum, [Transhymbranae',\n",
       " 'gentis] 20, 27. 28, 11. 43,8. 377, 31.',\n",
       " '',\n",
       " 'Aelim v. Alim.',\n",
       " '',\n",
       " 'Aeneades 39, 21; v. Virgilius.',\n",
       " '',\n",
       " 'Aesculapius, Scolapius 397, 25.',\n",
       " '',\n",
       " 'Aesne v. Aeine.',\n",
       " '',\n",
       " 'Aethel-, Aethil- v. Adal-.',\n",
       " '',\n",
       " 'Aethiopia 478, 5.',\n",
       " '',\n",
       " 'Africa 124, 16; Afer: Melchiades',\n",
       " 'papa; Africanum concilium 526,33.',\n",
       " '',\n",
       " 'Africanus, sc. Scipio Afr. 575, a6.',\n",
       " '',\n",
       " 'Agar 584, 38.',\n",
       " '',\n",
       " 'Agareni, Aggareni 32, 19. 601, 21;',\n",
       " 'v, Saraceni.',\n",
       " '',\n",
       " 'Agathensis synodus 396.',\n",
       " '',\n",
       " 'Aginus ep. Constantiensis 117, 32.',\n",
       " '',\n",
       " '129, 19.',\n",
       " '',\n",
       " '8',\n",
       " '',\n",
       " 'Aethelhardus, Aethilhardus, Athel-',\n",
       " 'hardus, Athilhardus, Aedelhardus,',\n",
       " 'Aedelhardus, Aedilhardus, Aedil-|',\n",
       " 'hardus, Ethelardus, Edelardus',\n",
       " 'archiep. Cantuariensis Dorovernen-',\n",
       " '',\n",
       " 'sis ecclesiae metropolitanus 46, 9.',\n",
       " '',\n",
       " '49,9, 128,2. 145, 31, 147,5. 188. 189.',\n",
       " '',\n",
       " '192, 24. 193, 5[?]. 374376, v9. 377, 4,',\n",
       " '',\n",
       " '412. 414,1 (2) 448. 449 [2]. 450 [2]',\n",
       " '',\n",
       " '451, 8 [2]. 479. 480. 614, 10. 21. 36.',\n",
       " '',\n",
       " 'Adalhardus, . Antonius, abb,',\n",
       " 'Corbeiae veteris, fil. Bernhardi',\n",
       " 'rae Caroli Magni 34, 25. 290.',\n",
       " '',\n",
       " '1. 299. 300. 364. 365, 381. 382,',\n",
       " '509. 566,16; frater: Bernarius;',\n",
       " 'fratres 381,25; soror: Gundrada.’',\n",
       " '',\n",
       " 'Adalmondus, Aethelmodus ep. Scire-',\n",
       " 'burnensis 29, 9.',\n",
       " '',\n",
       " 'Adelperga uxor Arichis ducis Bene-',\n",
       " 'ventani, filia Desiderii regis Lango-',\n",
       " 'bardorum 506, 5; liberi: Romual-',\n",
       " 'dus, Grimoaldus, Adelgisa.',\n",
       " '',\n",
       " 'Adalpert v, Adalbertus.',\n",
       " '',\n",
       " 'Aedelredus, Aedilredus, Aethelredus,',\n",
       " 'Aethilredus, Hedilredus rex Nor-|',\n",
       " 'thanhumbrorum, fil. Aedelwaldi',\n",
       " 'Moll regis 33,15. 35,8. 41, 19.',\n",
       " '49, 16. 71, 20, 146,2. 147, 10. 150, 6.',\n",
       " '151, 35. 171,17. 377,31; mater:',\n",
       " 'Aedilthyda; uxor: Aethelfleda;',\n",
       " 'famulus: Torchmundus.',\n",
       " '',\n",
       " 'Adhelricus diaconus, discipulus et}',\n",
       " 'capellanus Arnonis archiep. Salis-',\n",
       " 'burg., postea abbas Ferrariensis,',\n",
       " 'archiepiscopus Senonensis, 418, 14.',\n",
       " '422, 10.',\n",
       " '',\n",
       " 'Aedilthyda, Edilthruda uxor Aethel-',\n",
       " \"waldi Moll regis Northanhumbro-'\",\n",
       " 'rum, postea abbatissa 120,12. 151,17.',\n",
       " '152, 31 (?]; filius: Aethelredus rex',\n",
       " 'Northanhumbrorum.',\n",
       " '',\n",
       " 'Edildryda uxor Ecgtridi regis Nor-',\n",
       " 'thanhumbrorum, postea abbatissa',\n",
       " '(¢ 679) 417,15.',\n",
       " '',\n",
       " 'Aedelwaldus, Aethelwoldus Moll rex’',\n",
       " 'Northanhumbrorum 33, 16; uxor:)',\n",
       " 'Aedilthyda; filius: Aethelredus,',\n",
       " '',\n",
       " 'Adalwinus ep. Reginensis 421, 24.',\n",
       " '422, 21. 424,3.',\n",
       " '',\n",
       " 'Aethiluuinus episcopus 28, 2.',\n",
       " '',\n",
       " 'Adam 124, 201,1. 226,7. 264, 21.',\n",
       " '879, 29. 466, 36-—468, v5. 591, 34.',\n",
       " '',\n",
       " 'Adam abb. monasterii Gemeticensis',\n",
       " '579.',\n",
       " '',\n",
       " 'Adaula abbatissa Anglica 112, 4.',\n",
       " '',\n",
       " 'Adoredus, Hathoredus ep. Hwiccio-',\n",
       " 'rum [Wigorniensis] 29, 10.',\n",
       " '',\n",
       " 'Adrianus v. Hadrianus.',\n",
       " '',\n",
       " 'Adriaticum mare 324, 41.',\n",
       " '',\n",
       " 'Aedel-, Aedil-, v. Adal-.',\n",
       " '',\n",
       " 'Aegesippus [i. e. Hegesippus] 501, 11.',\n",
       " '',\n",
       " 'Aegil v. Eigil.',\n",
       " '',\n",
       " 'Aegyptus, Egyptus 123,19. 554, 17;',\n",
       " '‘Aegyptii, Aegyptiaci 231. 232, 17.',\n",
       " '467, 36. 567,6. 571,33; Egyptiacae',\n",
       " 'divitiae 470, 22; Aegyptiacae tene-',\n",
       " 'brae 232, 3; Aegyptt rex: Pharao;',\n",
       " 'Aegyptiacascola, Aegyptiaci pueri',\n",
       " 'v. Carolus I imperator.',\n",
       " '',\n",
       " 'Aeine, Aesne, Esne ep. Herefordensis',\n",
       " '',\n",
       " ', 6.',\n",
       " 'Aelberhtus archiep. Eboracensis, ma-',\n",
       " '‘ister Alcvini abbatis (162, 24]. 167,s.',\n",
       " '171,19]. [177,5]. [224,20]. [239, 28].',\n",
       " '332, 28]. [377,32]. (378, 31]. [429,27].',\n",
       " '',\n",
       " 'Aelfvaldus, Aelfwaldus rex Nor-',\n",
       " 'thanhymbrorum, [Transhymbranae',\n",
       " 'gentis] 20, 27. 28, 11. 43,8. 377, 31.',\n",
       " '',\n",
       " 'Aelim v. Alim.',\n",
       " '',\n",
       " 'Aeneades 39, 21; v. Virgilius.',\n",
       " '',\n",
       " 'Aesculapius, Scolapius 397, 25.',\n",
       " '',\n",
       " 'Aesne v. Aeine.',\n",
       " '',\n",
       " 'Aethel-, Aethil- v. Adal-.',\n",
       " '',\n",
       " 'Aethiopia 478, 5.',\n",
       " '',\n",
       " 'Africa 124, 16; Afer: Melchiades',\n",
       " 'papa; Africanum concilium 526,33.',\n",
       " '',\n",
       " 'Africanus, sc. Scipio Afr. 575, a6.',\n",
       " '',\n",
       " 'Agar 584, 38.',\n",
       " '',\n",
       " 'Agareni, Aggareni 32, 19. 601, 21;',\n",
       " 'v, Saraceni.',\n",
       " '',\n",
       " 'Agathensis synodus 396.',\n",
       " '',\n",
       " 'Aginus ep. Constantiensis 117, 32.',\n",
       " '',\n",
       " '129, 19.',\n",
       " '',\n",
       " 'Aethiluuinus episcopus 28, 2.',\n",
       " '',\n",
       " 'Adam 124. 201,1. 226,7. 264, 21,|',\n",
       " '',\n",
       " '879, 29. 466, 36-—468, v5. 591, 34.',\n",
       " '',\n",
       " 'Adam abb. monasterii Gemeticensis',\n",
       " '',\n",
       " '579.',\n",
       " '',\n",
       " 'Adaula abbatissa Anglica 112, 4.',\n",
       " '',\n",
       " 'Adoredus, Hathoredus ep. Hwiccio-|',\n",
       " 'rum [Wigorniensis] 29, 10.',\n",
       " '',\n",
       " 'Adrianus v. Hadrianus.',\n",
       " '',\n",
       " 'Adriaticum mare 324, 41.',\n",
       " '',\n",
       " 'Aedel-, Aedil-, v. Adal-.',\n",
       " '',\n",
       " 'Aegesippus [i. e. Hegesippus] 501, 11,',\n",
       " '',\n",
       " 'Aegil v. Eigil.',\n",
       " '',\n",
       " 'Aegyptus, Egyptus 123,19. 554, 17;',\n",
       " '‘Aegyptii, Aegyptiaci 231. 232, 17,',\n",
       " '467, 36. 567,6. 571,33; Egyptiacae’',\n",
       " 'divitiae 470, 22; Aegyptiacae tene-|',\n",
       " 'brae 232, 3; Aegyptt rex: Pharao;',\n",
       " 'Aegyptiacascola, Aegyptiaci pueri',\n",
       " 'v. Carolus I imperator.',\n",
       " '',\n",
       " 'Aeine, Aesne, Esne ep. Herefordensis:',\n",
       " '',\n",
       " ', 6.',\n",
       " 'Aelberhtus archiep. Eboracensis, ma-',\n",
       " '‘ister Alcvini abbatis (162, 24]. 167,s.',\n",
       " '171,19]. [177,5]. [224,20]. [239, 28].',\n",
       " '332, 28]. [377,32]. (378, 31]. [429,27].',\n",
       " '',\n",
       " 'Aelfvaldus, Aelfwaldus rex Nor-',\n",
       " 'thanhymbrorum, [Transhymbranae',\n",
       " 'gentis] 20, 27. 28, 11. 43,8. 377, 31.',\n",
       " '',\n",
       " 'Aelim v. Alim.',\n",
       " '',\n",
       " 'Aeneades 39, 21; v. Virgilius.',\n",
       " '',\n",
       " 'Aesculapius, Scolapius 397, 25.',\n",
       " '',\n",
       " 'Aesne v. Aeine.',\n",
       " '',\n",
       " 'Aethel-, Aethil- v. Adal-.',\n",
       " '',\n",
       " 'Aethiopia 478, 5,',\n",
       " '',\n",
       " 'Africa 124, 16; Afer: Melchiades',\n",
       " 'papa; Africanum concilium 526,33.',\n",
       " '',\n",
       " 'Africanus, se. Scipio Afr. 575, 36.',\n",
       " '',\n",
       " 'Agar 584, 3s.',\n",
       " '',\n",
       " 'Agareni, Aggareni 32, 19. 601, 21;',\n",
       " 'v, Saraceni.',\n",
       " '',\n",
       " 'Agathensis synodus 396,',\n",
       " '',\n",
       " 'Aginus ep. Constantiensis 117, 32.',\n",
       " '',\n",
       " '129, 19.',\n",
       " '',\n",
       " '']"
      ]
     },
     "execution_count": 18,
     "metadata": {},
     "output_type": "execute_result"
    }
   ],
   "source": [
    "result"
   ]
  },
  {
   "cell_type": "code",
   "execution_count": 21,
   "id": "f876db67",
   "metadata": {},
   "outputs": [],
   "source": [
    "Aes=[]\n",
    "for item in result:\n",
    "    item=item.strip()\n",
    "    item=item.split(\" \")[0]\n",
    "    if len(item)>3:\n",
    "        if \"-\" not in item and item[0]==\"A\":\n",
    "            item=item.split(\".\")[0].replace(\",\",\"\").replace(\";\",\"\")\n",
    "            Aes.append(item)"
   ]
  },
  {
   "cell_type": "code",
   "execution_count": 25,
   "id": "a01cba6d",
   "metadata": {},
   "outputs": [
    {
     "name": "stdout",
     "output_type": "stream",
     "text": [
      "Abacuc\n"
     ]
    }
   ],
   "source": [
    "Aes.remove('A')\n",
    "print(Aes[0])"
   ]
  },
  {
   "cell_type": "code",
   "execution_count": 26,
   "id": "76ed87a4",
   "metadata": {},
   "outputs": [
    {
     "name": "stdout",
     "output_type": "stream",
     "text": [
      "['Abacuc', 'Abagarus', 'Abdenago', 'Abel', 'Abigail', 'Abraham', 'Absalon', 'Acgfredi', 'Achab', 'Achaz', 'Achiel', 'Achilon', 'Aedelbaldusabb', 'Aedilberctus', 'Adalbertus', 'Adalpertabb', 'Adalbertus', 'Aedilburga', 'Aethelfleda', 'Adalgarius', 'Adelgisa', 'Adalgisus', 'Aaron', 'Aethelhardus', 'Aedelhardus', 'Adelperga', 'Aedelredus', 'Aethilredus', 'Aedilthyda', 'Adhelricus', 'Aedilthyda', 'Aedelwaldus', 'Aedilthyda', 'Adalwinus', 'Aethiluuinus', 'Adam', 'Adam', 'Adaula', 'Adoredus', 'Adrianus', 'Adriaticum', 'Aegesippus', 'Aegil', 'Aegyptus', 'Aegyptiacascola', 'Aeine', 'Aelberhtus', 'Aelfvaldus', 'Aelim', 'Aeneades', 'Aesculapius', 'Aesne', 'Aethiopia', 'Africa', 'Africanus', 'Agar', 'Agareni', 'Agathensis', 'Aginus', 'Aethelhardus', 'Aedelhardus', 'Adalhardus', 'Adalmondus', 'Adelperga', 'Adalpert', 'Aedelredus', 'Aethilredus', 'Aedilthyda', 'Adhelricus', 'Aedilthyda', 'Aedelwaldus', 'Aedilthyda', 'Adalwinus', 'Aethiluuinus', 'Adam', 'Adam', 'Adaula', 'Adoredus', 'Adrianus', 'Adriaticum', 'Aegesippus', 'Aegil', 'Aegyptus', 'Aegyptiacascola', 'Aeine', 'Aelberhtus', 'Aelfvaldus', 'Aelim', 'Aeneades', 'Aesculapius', 'Aesne', 'Aethiopia', 'Africa', 'Africanus', 'Agar', 'Agareni', 'Agathensis', 'Aginus', 'Aethiluuinus', 'Adam', 'Adam', 'Adaula', 'Adoredus', 'Adrianus', 'Adriaticum', 'Aegesippus', 'Aegil', 'Aegyptus', 'Aegyptiacascola', 'Aeine', 'Aelberhtus', 'Aelfvaldus', 'Aelim', 'Aeneades', 'Aesculapius', 'Aesne', 'Aethiopia', 'Africa', 'Africanus', 'Agar', 'Agareni', 'Agathensis', 'Aginus']\n"
     ]
    }
   ],
   "source": [
    "print(Aes)"
   ]
  },
  {
   "cell_type": "code",
   "execution_count": 27,
   "id": "ebdd4f6a",
   "metadata": {},
   "outputs": [],
   "source": [
    "Aes=list(set(Aes))"
   ]
  },
  {
   "cell_type": "code",
   "execution_count": 28,
   "id": "94da6908",
   "metadata": {},
   "outputs": [
    {
     "name": "stdout",
     "output_type": "stream",
     "text": [
      "['Adalpert', 'Aedelwaldus', 'Aegesippus', 'Abagarus', 'Achilon', 'Adalmondus', 'Adelperga', 'Aaron', 'Agathensis', 'Africanus', 'Aedelhardus', 'Aelfvaldus', 'Aethelfleda', 'Abraham', 'Adrianus', 'Adriaticum', 'Aginus', 'Absalon', 'Aegyptiacascola', 'Adalwinus', 'Aesculapius', 'Aedilthyda', 'Aethilredus', 'Adalhardus', 'Adelgisa', 'Aethelhardus', 'Adaula', 'Aethiopia', 'Adalbertus', 'Adam', 'Aeneades', 'Adhelricus', 'Abacuc', 'Adoredus', 'Aegil', 'Aethiluuinus', 'Aelim', 'Adalpertabb', 'Aelberhtus', 'Aedilburga', 'Acgfredi', 'Agar', 'Achiel', 'Adalgisus', 'Adalgarius', 'Aedelbaldusabb', 'Aesne', 'Agareni', 'Africa', 'Abigail', 'Aedelredus', 'Abel', 'Achab', 'Aegyptus', 'Achaz', 'Abdenago', 'Aeine', 'Aedilberctus']\n"
     ]
    }
   ],
   "source": [
    "print(Aes)"
   ]
  },
  {
   "cell_type": "code",
   "execution_count": 29,
   "id": "6db691bd",
   "metadata": {},
   "outputs": [],
   "source": [
    "Aes.sort()"
   ]
  },
  {
   "cell_type": "code",
   "execution_count": 30,
   "id": "754b4e61",
   "metadata": {},
   "outputs": [
    {
     "name": "stdout",
     "output_type": "stream",
     "text": [
      "['Aaron', 'Abacuc', 'Abagarus', 'Abdenago', 'Abel', 'Abigail', 'Abraham', 'Absalon', 'Acgfredi', 'Achab', 'Achaz', 'Achiel', 'Achilon', 'Adalbertus', 'Adalgarius', 'Adalgisus', 'Adalhardus', 'Adalmondus', 'Adalpert', 'Adalpertabb', 'Adalwinus', 'Adam', 'Adaula', 'Adelgisa', 'Adelperga', 'Adhelricus', 'Adoredus', 'Adrianus', 'Adriaticum', 'Aedelbaldusabb', 'Aedelhardus', 'Aedelredus', 'Aedelwaldus', 'Aedilberctus', 'Aedilburga', 'Aedilthyda', 'Aegesippus', 'Aegil', 'Aegyptiacascola', 'Aegyptus', 'Aeine', 'Aelberhtus', 'Aelfvaldus', 'Aelim', 'Aeneades', 'Aesculapius', 'Aesne', 'Aethelfleda', 'Aethelhardus', 'Aethilredus', 'Aethiluuinus', 'Aethiopia', 'Africa', 'Africanus', 'Agar', 'Agareni', 'Agathensis', 'Aginus']\n"
     ]
    }
   ],
   "source": [
    "print(Aes)"
   ]
  },
  {
   "cell_type": "code",
   "execution_count": null,
   "id": "dc4311ee",
   "metadata": {},
   "outputs": [],
   "source": []
  }
 ],
 "metadata": {
  "kernelspec": {
   "display_name": "Python 3 (ipykernel)",
   "language": "python",
   "name": "python3"
  },
  "language_info": {
   "codemirror_mode": {
    "name": "ipython",
    "version": 3
   },
   "file_extension": ".py",
   "mimetype": "text/x-python",
   "name": "python",
   "nbconvert_exporter": "python",
   "pygments_lexer": "ipython3",
   "version": "3.10.4"
  }
 },
 "nbformat": 4,
 "nbformat_minor": 5
}
